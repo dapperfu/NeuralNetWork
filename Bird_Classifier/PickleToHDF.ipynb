{
 "cells": [
  {
   "cell_type": "markdown",
   "metadata": {},
   "source": [
    "# Pickle to HDF\n",
    "\n",
    "The bird classifier data from [Machine Learning is Fun! Part 3: Deep Learning and Convolutional Neural Networks](https://medium.com/@ageitgey/machine-learning-is-fun-part-3-deep-learning-and-convolutional-neural-networks-f40359318721#.tq9h4p590) is distributed as a pickle file.\n",
    "\n",
    "Front and center on the [pickle's documentation](https://docs.python.org/3/library/pickle.html) is **Warning The pickle module is not secure against erroneous or maliciously constructed data. Never unpickle data received from an untrusted or unauthenticated source.**\n",
    "\n",
    "Additionally the pickle file is much larger than it should be."
   ]
  },
  {
   "cell_type": "code",
   "execution_count": 12,
   "metadata": {
    "collapsed": true
   },
   "outputs": [],
   "source": [
    "import h5py\n",
    "import pickle\n",
    "from time import time\n",
    "import py"
   ]
  },
  {
   "cell_type": "markdown",
   "metadata": {},
   "source": [
    "Read the pickled dataset and record how long it took."
   ]
  },
  {
   "cell_type": "code",
   "execution_count": 31,
   "metadata": {
    "collapsed": false,
    "scrolled": true
   },
   "outputs": [],
   "source": [
    "dataset = \"full_dataset.pkl\"\n",
    "t1 = time()\n",
    "X, Y, X_test, Y_test = pickle.load(open(dataset, \"rb\"), encoding=\"bytes\")\n",
    "t2 = time()\n",
    "mb = py.path.local(dataset).size()/1024 ** 2"
   ]
  },
  {
   "cell_type": "code",
   "execution_count": 32,
   "metadata": {
    "collapsed": false
   },
   "outputs": [
    {
     "name": "stdout",
     "output_type": "stream",
     "text": [
      "It took 48.07s to load the 5229.6MB bird classifier dataset from pickle\n"
     ]
    }
   ],
   "source": [
    "print(\"It took {:.2f}s to load the {:.1f}MB bird classifier dataset from pickle\".format(t2-t1,mb))"
   ]
  },
  {
   "cell_type": "markdown",
   "metadata": {},
   "source": [
    "Resave the pickled dataset as a hdf5 file\n",
    "\n",
    "http://docs.h5py.org/en/latest/high/dataset.html#lossless-compression-filters"
   ]
  },
  {
   "cell_type": "code",
   "execution_count": 33,
   "metadata": {
    "collapsed": false
   },
   "outputs": [],
   "source": [
    "hdf_dataset = \"full_dataset.hdf5\"\n",
    "\n",
    "opts=dict()\n",
    "opts[\"compression\"]=\"gzip\"\n",
    "opts[\"compression_opts\"]=9\n",
    "\n",
    "t1 = time()\n",
    "with h5py.File(hdf_dataset, \"w\") as fid:\n",
    "    fid.create_dataset(\"X\", data=(X,), **opts)\n",
    "    fid.create_dataset(\"Y\", data=(Y,), **opts)\n",
    "    fid.create_dataset(\"X_test\", data=(X_test, ), **opts)\n",
    "    fid.create_dataset(\"Y_test\", data=(Y_test, ), **opts)\n",
    "t2 = time()\n",
    "mb = py.path.local(hdf_dataset).size()/1024 ** 2"
   ]
  },
  {
   "cell_type": "code",
   "execution_count": 35,
   "metadata": {
    "collapsed": false
   },
   "outputs": [
    {
     "name": "stdout",
     "output_type": "stream",
     "text": [
      "It took 113.11s to save the 368.4MB bird classifier dataset from pickle\n"
     ]
    }
   ],
   "source": [
    "print(\"It took {:.2f}s to save the {:.1f}MB bird classifier dataset from pickle\".format(t2-t1,mb))"
   ]
  },
  {
   "cell_type": "code",
   "execution_count": null,
   "metadata": {
    "collapsed": true
   },
   "outputs": [],
   "source": []
  }
 ],
 "metadata": {
  "kernelspec": {
   "display_name": "Python 3",
   "language": "python",
   "name": "python3"
  },
  "language_info": {
   "codemirror_mode": {
    "name": "ipython",
    "version": 3
   },
   "file_extension": ".py",
   "mimetype": "text/x-python",
   "name": "python",
   "nbconvert_exporter": "python",
   "pygments_lexer": "ipython3",
   "version": "3.5.2"
  }
 },
 "nbformat": 4,
 "nbformat_minor": 1
}
