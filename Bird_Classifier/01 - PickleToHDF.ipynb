{
 "cells": [
  {
   "cell_type": "markdown",
   "metadata": {},
   "source": [
    "# Pickle to HDF\n",
    "\n",
    "The bird classifier data from [Machine Learning is Fun! Part 3: Deep Learning and Convolutional Neural Networks](https://medium.com/@ageitgey/machine-learning-is-fun-part-3-deep-learning-and-convolutional-neural-networks-f40359318721#.tq9h4p590) is distributed as a pickle file.\n",
    "\n",
    "Front and center on the [pickle's documentation](https://docs.python.org/3/library/pickle.html) is: **Warning The pickle module is not secure against erroneous or maliciously constructed data. Never unpickle data received from an untrusted or unauthenticated source.**\n",
    "\n",
    "Additionally the pickle file is much larger than it should be. [HDF5](https://support.hdfgroup.org/HDF5/) is designed to store data."
   ]
  },
  {
   "cell_type": "code",
   "execution_count": 4,
   "metadata": {
    "collapsed": true
   },
   "outputs": [],
   "source": [
    "import h5py\n",
    "import pickle\n",
    "import py\n",
    "from time import time"
   ]
  },
  {
   "cell_type": "markdown",
   "metadata": {},
   "source": [
    "## Read Pickle\n",
    "\n",
    "Read the pickled dataset and record how long it took.\n",
    "\n",
    "`full_dataset.pkl` from [`data.zip`](https://s3-us-west-2.amazonaws.com/ml-is-fun/data.zip)"
   ]
  },
  {
   "cell_type": "code",
   "execution_count": 5,
   "metadata": {
    "collapsed": true
   },
   "outputs": [],
   "source": [
    "dataset = \"full_dataset.pkl\""
   ]
  },
  {
   "cell_type": "code",
   "execution_count": 6,
   "metadata": {
    "collapsed": false,
    "scrolled": true
   },
   "outputs": [],
   "source": [
    "t1 = time()\n",
    "X, Y, X_test, Y_test = pickle.load(open(dataset, \"rb\"), encoding=\"bytes\")\n",
    "t2 = time()\n",
    "mb = py.path.local(dataset).size()/1024 ** 2"
   ]
  },
  {
   "cell_type": "code",
   "execution_count": 8,
   "metadata": {
    "collapsed": false
   },
   "outputs": [
    {
     "name": "stdout",
     "output_type": "stream",
     "text": [
      "It took 22.76s to load the 5229.6MB bird classifier dataset from full_dataset.pkl.\n"
     ]
    }
   ],
   "source": [
    "print(\"It took {:.2f}s to load the {:.1f}MB bird classifier dataset from {}.\".format(t2-t1,mb, dataset))"
   ]
  },
  {
   "cell_type": "markdown",
   "metadata": {},
   "source": [
    "## Save HDF5\n",
    "\n",
    "Resave the pickled dataset as a hdf5 file. Set gzip compression to level 9.\n",
    "\n",
    "http://docs.h5py.org/en/latest/high/dataset.html#lossless-compression-filters"
   ]
  },
  {
   "cell_type": "code",
   "execution_count": 9,
   "metadata": {
    "collapsed": false
   },
   "outputs": [],
   "source": [
    "hdf_dataset = \"full_dataset.hdf5\"\n",
    "\n",
    "opts=dict()\n",
    "opts[\"compression\"]=\"gzip\"\n",
    "opts[\"compression_opts\"]=9\n",
    "\n",
    "t1 = time()\n",
    "with h5py.File(hdf_dataset, \"w\") as fid:\n",
    "    fid.create_dataset(\"X\", data=(X,), **opts)\n",
    "    fid.create_dataset(\"Y\", data=(Y,), **opts)\n",
    "    fid.create_dataset(\"X_test\", data=(X_test, ), **opts)\n",
    "    fid.create_dataset(\"Y_test\", data=(Y_test, ), **opts)\n",
    "t2 = time()\n",
    "mb = py.path.local(hdf_dataset).size()/1024 ** 2"
   ]
  },
  {
   "cell_type": "code",
   "execution_count": 15,
   "metadata": {
    "collapsed": false
   },
   "outputs": [
    {
     "name": "stdout",
     "output_type": "stream",
     "text": [
      "It took 7.54s to save the 368.4MB bird classifier dataset as hdf5 with gzip-9 compression.\n"
     ]
    }
   ],
   "source": [
    "print(\"It took {:.2f}s to save the {:.1f}MB bird classifier dataset as hdf5 with gzip-9 compression.\".format(t2-t1,mb))"
   ]
  },
  {
   "cell_type": "markdown",
   "metadata": {},
   "source": [
    "## Read HDF5\n",
    "\n",
    "Read in the HDF5 file."
   ]
  },
  {
   "cell_type": "code",
   "execution_count": 11,
   "metadata": {
    "collapsed": true
   },
   "outputs": [],
   "source": [
    "t1=time()\n",
    "with h5py.File(hdf_dataset, \"r\") as fid:\n",
    "    X2=fid[\"X\"].value[0]\n",
    "    Y2=fid[\"Y\"].value[0]\n",
    "    X_test2=fid[\"X_test\"].value[0]\n",
    "    Y_test2=fid[\"Y_test\"].value[0]\n",
    "t2=time()"
   ]
  },
  {
   "cell_type": "code",
   "execution_count": 16,
   "metadata": {
    "collapsed": false,
    "scrolled": true
   },
   "outputs": [
    {
     "name": "stdout",
     "output_type": "stream",
     "text": [
      "It took 7.54s to read the 368.4MB bird classifier dataset from hdf5 with gzip-9 compression.\n"
     ]
    }
   ],
   "source": [
    "print(\"It took {:.2f}s to read the {:.1f}MB bird classifier dataset from hdf5 with gzip-9 compression.\".format(t2-t1,mb))"
   ]
  },
  {
   "cell_type": "markdown",
   "metadata": {},
   "source": [
    "## Data Integrity \n",
    "\n",
    "Check that data read back from the hdf5 file and pickle file have the same data."
   ]
  },
  {
   "cell_type": "code",
   "execution_count": 17,
   "metadata": {
    "collapsed": false
   },
   "outputs": [],
   "source": [
    "import numpy.testing"
   ]
  },
  {
   "cell_type": "code",
   "execution_count": 18,
   "metadata": {
    "collapsed": false
   },
   "outputs": [],
   "source": [
    "numpy.testing.assert_array_equal(X, X2)\n",
    "numpy.testing.assert_array_equal(X_test, X_test2)\n",
    "numpy.testing.assert_array_equal(Y, Y2)\n",
    "numpy.testing.assert_array_equal(Y_test, Y_test2)"
   ]
  }
 ],
 "metadata": {
  "kernelspec": {
   "display_name": "Python 3",
   "language": "python",
   "name": "python3"
  },
  "language_info": {
   "codemirror_mode": {
    "name": "ipython",
    "version": 3
   },
   "file_extension": ".py",
   "mimetype": "text/x-python",
   "name": "python",
   "nbconvert_exporter": "python",
   "pygments_lexer": "ipython3",
   "version": "3.5.2"
  }
 },
 "nbformat": 4,
 "nbformat_minor": 1
}
