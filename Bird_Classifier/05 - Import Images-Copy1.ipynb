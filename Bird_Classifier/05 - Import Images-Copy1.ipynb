{
 "cells": [
  {
   "cell_type": "markdown",
   "metadata": {},
   "source": [
    "# Import Images\n",
    "\n",
    "Batch script to import images from a list of files and pack it into an array for data analysis"
   ]
  },
  {
   "cell_type": "code",
   "execution_count": 2,
   "metadata": {
    "collapsed": false
   },
   "outputs": [],
   "source": [
    "import h5py\n",
    "from PIL import Image\n",
    "import numpy as np\n",
    "import os\n",
    "import glob"
   ]
  },
  {
   "cell_type": "markdown",
   "metadata": {},
   "source": [
    "### Development REPL"
   ]
  },
  {
   "cell_type": "code",
   "execution_count": 3,
   "metadata": {
    "collapsed": false
   },
   "outputs": [
    {
     "data": {
      "text/plain": [
       "'../Start_Classifier/Images/good'"
      ]
     },
     "execution_count": 3,
     "metadata": {},
     "output_type": "execute_result"
    }
   ],
   "source": [
    "taxonomies = glob.glob(\"../Start_Classifier/Images/*\")\n",
    "for i in range(len(taxonomies)):\n",
    "    taxonomy = taxonomies[i]\n",
    "    break\n",
    "taxonomy"
   ]
  },
  {
   "cell_type": "code",
   "execution_count": 4,
   "metadata": {
    "collapsed": false
   },
   "outputs": [],
   "source": [
    "for image in glob.glob(os.path.join(taxonomy,\"*\")):\n",
    "    break"
   ]
  },
  {
   "cell_type": "code",
   "execution_count": 5,
   "metadata": {
    "collapsed": false
   },
   "outputs": [
    {
     "data": {
      "text/plain": [
       "'../Start_Classifier/Images/good/0e3eac88-7a18-470d-a082-bd694c911596.png'"
      ]
     },
     "execution_count": 5,
     "metadata": {},
     "output_type": "execute_result"
    }
   ],
   "source": [
    "image"
   ]
  },
  {
   "cell_type": "code",
   "execution_count": 6,
   "metadata": {
    "collapsed": true
   },
   "outputs": [],
   "source": [
    "image_list = list()\n",
    "classification_list = list()"
   ]
  },
  {
   "cell_type": "code",
   "execution_count": 7,
   "metadata": {
    "collapsed": false
   },
   "outputs": [],
   "source": [
    "image_ = Image.open(image)"
   ]
  },
  {
   "cell_type": "code",
   "execution_count": 8,
   "metadata": {
    "collapsed": true
   },
   "outputs": [],
   "source": [
    "image_list.append(np.asarray(image_))"
   ]
  },
  {
   "cell_type": "code",
   "execution_count": 14,
   "metadata": {
    "collapsed": false
   },
   "outputs": [
    {
     "data": {
      "text/plain": [
       "[(897, 0),\n",
       " (1, 1),\n",
       " (1, 2),\n",
       " (1, 3),\n",
       " (1, 4),\n",
       " (1, 5),\n",
       " (1, 6),\n",
       " (1, 7),\n",
       " (1, 8),\n",
       " (1, 9),\n",
       " (1, 10),\n",
       " (1, 11),\n",
       " (1, 12),\n",
       " (1, 13),\n",
       " (1, 14),\n",
       " (1, 15),\n",
       " (1, 16),\n",
       " (1, 17),\n",
       " (1, 18),\n",
       " (1, 19),\n",
       " (1, 20),\n",
       " (1, 21),\n",
       " (1, 22),\n",
       " (1, 23),\n",
       " (1, 24),\n",
       " (1, 25),\n",
       " (1, 26),\n",
       " (1, 27),\n",
       " (1, 28),\n",
       " (1, 29),\n",
       " (1, 30),\n",
       " (1, 31),\n",
       " (1, 32),\n",
       " (1, 33),\n",
       " (1, 34),\n",
       " (1, 35),\n",
       " (1, 36),\n",
       " (1, 37),\n",
       " (1, 38),\n",
       " (1, 39),\n",
       " (1, 40),\n",
       " (1, 41),\n",
       " (1, 42),\n",
       " (1, 43),\n",
       " (1, 44),\n",
       " (1, 45),\n",
       " (1, 46),\n",
       " (1, 47),\n",
       " (1, 48),\n",
       " (1, 49),\n",
       " (1, 50),\n",
       " (1, 51),\n",
       " (1, 52),\n",
       " (1, 53),\n",
       " (1, 54),\n",
       " (1, 55),\n",
       " (1, 56),\n",
       " (1, 57),\n",
       " (1, 58),\n",
       " (1, 59),\n",
       " (1, 60),\n",
       " (1, 61),\n",
       " (1, 62),\n",
       " (1, 63),\n",
       " (1, 64),\n",
       " (1, 65),\n",
       " (1, 66),\n",
       " (1, 67),\n",
       " (1, 68),\n",
       " (1, 69),\n",
       " (1, 70),\n",
       " (1, 71),\n",
       " (1, 72),\n",
       " (1, 73),\n",
       " (1, 74),\n",
       " (1, 75),\n",
       " (1, 76),\n",
       " (1, 77),\n",
       " (1, 78),\n",
       " (1, 79),\n",
       " (1, 80),\n",
       " (1, 81),\n",
       " (1, 82),\n",
       " (1, 83),\n",
       " (1, 84),\n",
       " (1, 85),\n",
       " (1, 86),\n",
       " (1, 87),\n",
       " (1, 88),\n",
       " (1, 89),\n",
       " (1, 90),\n",
       " (1, 91),\n",
       " (1, 92),\n",
       " (1, 93),\n",
       " (1, 94),\n",
       " (1, 95),\n",
       " (1, 96),\n",
       " (1, 97),\n",
       " (1, 98),\n",
       " (1, 99),\n",
       " (1, 100),\n",
       " (1, 101),\n",
       " (1, 102),\n",
       " (1, 103),\n",
       " (1, 104),\n",
       " (1, 105),\n",
       " (1, 106),\n",
       " (1, 107),\n",
       " (1, 108),\n",
       " (1, 109),\n",
       " (1, 110),\n",
       " (1, 111),\n",
       " (1, 112),\n",
       " (1, 113),\n",
       " (1, 114),\n",
       " (1, 115),\n",
       " (1, 116),\n",
       " (1, 117),\n",
       " (1, 118),\n",
       " (1, 119),\n",
       " (1, 120),\n",
       " (1, 121),\n",
       " (1, 122),\n",
       " (1, 123),\n",
       " (1, 124),\n",
       " (1, 125),\n",
       " (1, 126),\n",
       " (1, 127)]"
      ]
     },
     "execution_count": 14,
     "metadata": {},
     "output_type": "execute_result"
    }
   ],
   "source": [
    "image_.getcolors()"
   ]
  },
  {
   "cell_type": "markdown",
   "metadata": {},
   "source": [
    "## Batch Import"
   ]
  },
  {
   "cell_type": "code",
   "execution_count": 12,
   "metadata": {
    "collapsed": false
   },
   "outputs": [],
   "source": [
    "image_list = list()\n",
    "classification_list = list()\n",
    "\n",
    "taxonomies = glob.glob(\"Images/*\")\n",
    "for i in range(len(taxonomies)):\n",
    "    taxonomy = taxonomies[i]\n",
    "    \n",
    "    classification = np.zeros(len(taxonomies))\n",
    "    classification[i]=1.0\n",
    "        \n",
    "    for image in glob.glob(os.path.join(taxonomy,\"*.jpg\")):\n",
    "        image_ = Image.open(image)\n",
    "        image_list.append(np.asarray(image_)/255)\n",
    "        classification_list.append(classification)"
   ]
  },
  {
   "cell_type": "code",
   "execution_count": 13,
   "metadata": {
    "collapsed": false
   },
   "outputs": [],
   "source": [
    "# Check that we imported everything equally.\n",
    "assert len(image_list)==len(classification_list)"
   ]
  },
  {
   "cell_type": "code",
   "execution_count": 14,
   "metadata": {
    "collapsed": false
   },
   "outputs": [],
   "source": [
    "image_list = np.asarray(image_list)\n",
    "classification_list = np.asarray(classification_list)"
   ]
  },
  {
   "cell_type": "code",
   "execution_count": 15,
   "metadata": {
    "collapsed": true
   },
   "outputs": [],
   "source": [
    "hdf_dataset = \"imported_dataset.hdf5\"\n",
    "\n",
    "opts=dict()\n",
    "opts[\"compression\"]=\"gzip\"\n",
    "opts[\"compression_opts\"]=9\n",
    "with h5py.File(hdf_dataset, \"w\") as fid:\n",
    "    fid.create_dataset(\"images\", data=image_list, **opts)\n",
    "    fid.create_dataset(\"classifications\", data=classification_list, **opts)"
   ]
  },
  {
   "cell_type": "code",
   "execution_count": null,
   "metadata": {
    "collapsed": true
   },
   "outputs": [],
   "source": []
  }
 ],
 "metadata": {
  "kernelspec": {
   "display_name": "Python 3",
   "language": "python",
   "name": "python3"
  },
  "language_info": {
   "codemirror_mode": {
    "name": "ipython",
    "version": 3
   },
   "file_extension": ".py",
   "mimetype": "text/x-python",
   "name": "python",
   "nbconvert_exporter": "python",
   "pygments_lexer": "ipython3",
   "version": "3.5.2"
  }
 },
 "nbformat": 4,
 "nbformat_minor": 1
}
