{
 "cells": [
  {
   "cell_type": "markdown",
   "metadata": {},
   "source": [
    "# Import Images\n",
    "\n",
    "Batch script to import images from a list of files and pack it into an array for data analysis"
   ]
  },
  {
   "cell_type": "code",
   "execution_count": 2,
   "metadata": {
    "collapsed": false
   },
   "outputs": [],
   "source": [
    "import h5py\n",
    "from PIL import Image\n",
    "import numpy as np\n",
    "import os\n",
    "import glob"
   ]
  },
  {
   "cell_type": "markdown",
   "metadata": {},
   "source": [
    "### Development REPL"
   ]
  },
  {
   "cell_type": "code",
   "execution_count": 32,
   "metadata": {
    "collapsed": false
   },
   "outputs": [
    {
     "data": {
      "text/plain": [
       "'Images/NotBird'"
      ]
     },
     "execution_count": 32,
     "metadata": {},
     "output_type": "execute_result"
    }
   ],
   "source": [
    "taxonomies = glob.glob(\"Images/*\")\n",
    "for i in range(len(taxonomies)):\n",
    "    taxonomy = taxonomies[i]\n",
    "    break\n",
    "taxonomy"
   ]
  },
  {
   "cell_type": "code",
   "execution_count": 20,
   "metadata": {
    "collapsed": false
   },
   "outputs": [],
   "source": [
    "for image in glob.glob(os.path.join(taxonomy,\"*.jpg\")):\n",
    "    break"
   ]
  },
  {
   "cell_type": "code",
   "execution_count": 34,
   "metadata": {
    "collapsed": true
   },
   "outputs": [],
   "source": [
    "image_list = list()\n",
    "classification_list = list()"
   ]
  },
  {
   "cell_type": "code",
   "execution_count": 35,
   "metadata": {
    "collapsed": true
   },
   "outputs": [],
   "source": [
    "image_ = Image.open(image)"
   ]
  },
  {
   "cell_type": "code",
   "execution_count": 36,
   "metadata": {
    "collapsed": true
   },
   "outputs": [],
   "source": [
    "image_list.append(np.asarray(image_))"
   ]
  },
  {
   "cell_type": "code",
   "execution_count": 41,
   "metadata": {
    "collapsed": true
   },
   "outputs": [],
   "source": [
    "classification = np.zeros(len(taxonomies))\n",
    "classification[i]=1\n",
    "classification_list.append(classification)"
   ]
  },
  {
   "cell_type": "code",
   "execution_count": 42,
   "metadata": {
    "collapsed": false
   },
   "outputs": [
    {
     "data": {
      "text/plain": [
       "[array([ 1.,  0.])]"
      ]
     },
     "execution_count": 42,
     "metadata": {},
     "output_type": "execute_result"
    }
   ],
   "source": [
    "classification_list"
   ]
  },
  {
   "cell_type": "code",
   "execution_count": 45,
   "metadata": {
    "collapsed": false
   },
   "outputs": [
    {
     "data": {
      "text/plain": [
       "'{}_{:05d}.jpg'"
      ]
     },
     "execution_count": 45,
     "metadata": {},
     "output_type": "execute_result"
    }
   ],
   "source": [
    "# Get the format string for the images.\n",
    "fmt_str = \"{}_{:0\"+str(len(str(len(animal_pictures))))+\"d}.jpg\"\n",
    "fmt_str"
   ]
  },
  {
   "cell_type": "code",
   "execution_count": 42,
   "metadata": {
    "collapsed": false,
    "scrolled": true
   },
   "outputs": [],
   "source": [
    "if (animal_classification == [0, 1]).all():\n",
    "    animal_type = \"Bird\"\n",
    "elif (animal_classification == [1, 0]).all():\n",
    "    animal_type = \"NotBird\"\n",
    "else:\n",
    "    raise Exception(\"Unknown Classification\")"
   ]
  },
  {
   "cell_type": "code",
   "execution_count": 51,
   "metadata": {
    "collapsed": false
   },
   "outputs": [
    {
     "data": {
      "text/plain": [
       "'./Images/Bird'"
      ]
     },
     "execution_count": 51,
     "metadata": {},
     "output_type": "execute_result"
    }
   ],
   "source": [
    "image_path = os.path.join(os.curdir, \"Images\", animal_type)\n",
    "image_path"
   ]
  },
  {
   "cell_type": "code",
   "execution_count": 52,
   "metadata": {
    "collapsed": false
   },
   "outputs": [
    {
     "data": {
      "text/plain": [
       "'Bird_00000.jpg'"
      ]
     },
     "execution_count": 52,
     "metadata": {},
     "output_type": "execute_result"
    }
   ],
   "source": [
    "image_name = fmt_str.format(animal_type, i)\n",
    "image_name"
   ]
  },
  {
   "cell_type": "code",
   "execution_count": 54,
   "metadata": {
    "collapsed": false
   },
   "outputs": [],
   "source": [
    "if not os.path.exists(image_path):\n",
    "    os.makedirs(image_path)"
   ]
  },
  {
   "cell_type": "code",
   "execution_count": 56,
   "metadata": {
    "collapsed": true
   },
   "outputs": [],
   "source": [
    "animal_picture_.save(os.path.join(image_path, image_name))"
   ]
  },
  {
   "cell_type": "markdown",
   "metadata": {},
   "source": [
    "### Batch Export"
   ]
  },
  {
   "cell_type": "code",
   "execution_count": 58,
   "metadata": {
    "collapsed": false
   },
   "outputs": [],
   "source": [
    "fmt_str = \"{}_{:0\"+str(len(str(len(animal_pictures))))+\"d}.jpg\"\n",
    "for i in range(len(animal_pictures)):\n",
    "    animal_classification = animal_classifications[i]\n",
    "    if (animal_classification == [0, 1]).all():\n",
    "        animal_type = \"Bird\"\n",
    "    elif (animal_classification == [1, 0]).all():\n",
    "        animal_type = \"NotBird\"\n",
    "    else:\n",
    "        raise Exception(\"Unknown Classification\")\n",
    "        \n",
    "    image_path = os.path.join(os.curdir, \"Images\", animal_type)\n",
    "    image_name = fmt_str.format(animal_type, i)\n",
    "    if not os.path.exists(image_path):\n",
    "        os.makedirs(image_path)\n",
    "        \n",
    "    animal_picture = animal_pictures[i]\n",
    "    animal_picture_ = Image.fromarray(np.uint8(animal_picture*255))\n",
    "    animal_picture_.save(os.path.join(image_path, image_name))"
   ]
  }
 ],
 "metadata": {
  "kernelspec": {
   "display_name": "Python 3",
   "language": "python",
   "name": "python3"
  },
  "language_info": {
   "codemirror_mode": {
    "name": "ipython",
    "version": 3
   },
   "file_extension": ".py",
   "mimetype": "text/x-python",
   "name": "python",
   "nbconvert_exporter": "python",
   "pygments_lexer": "ipython3",
   "version": "3.5.2"
  }
 },
 "nbformat": 4,
 "nbformat_minor": 1
}
