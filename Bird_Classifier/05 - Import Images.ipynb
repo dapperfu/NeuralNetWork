{
 "cells": [
  {
   "cell_type": "markdown",
   "metadata": {},
   "source": [
    "# Import Images\n",
    "\n",
    "Batch script to import images from a list of files and pack it into an array for data analysis"
   ]
  },
  {
   "cell_type": "code",
   "execution_count": 1,
   "metadata": {
    "collapsed": false
   },
   "outputs": [],
   "source": [
    "import h5py\n",
    "from PIL import Image\n",
    "import numpy as np\n",
    "import os\n",
    "import glob"
   ]
  },
  {
   "cell_type": "markdown",
   "metadata": {},
   "source": [
    "### Development REPL"
   ]
  },
  {
   "cell_type": "code",
   "execution_count": 2,
   "metadata": {
    "collapsed": false
   },
   "outputs": [
    {
     "data": {
      "text/plain": [
       "'../Start_Classifier/Images/good'"
      ]
     },
     "execution_count": 2,
     "metadata": {},
     "output_type": "execute_result"
    }
   ],
   "source": [
    "taxonomies = glob.glob(\"../Start_Classifier/Images/*\")\n",
    "for i in range(len(taxonomies)):\n",
    "    taxonomy = taxonomies[i]\n",
    "    break\n",
    "taxonomy"
   ]
  },
  {
   "cell_type": "code",
   "execution_count": 6,
   "metadata": {
    "collapsed": false
   },
   "outputs": [],
   "source": [
    "for image in glob.glob(os.path.join(taxonomy,\"*\")):\n",
    "    break"
   ]
  },
  {
   "cell_type": "code",
   "execution_count": 7,
   "metadata": {
    "collapsed": false
   },
   "outputs": [
    {
     "data": {
      "text/plain": [
       "'../Start_Classifier/Images/good/0e3eac88-7a18-470d-a082-bd694c911596.png'"
      ]
     },
     "execution_count": 7,
     "metadata": {},
     "output_type": "execute_result"
    }
   ],
   "source": [
    "image"
   ]
  },
  {
   "cell_type": "code",
   "execution_count": 8,
   "metadata": {
    "collapsed": true
   },
   "outputs": [],
   "source": [
    "image_list = list()\n",
    "classification_list = list()"
   ]
  },
  {
   "cell_type": "code",
   "execution_count": 9,
   "metadata": {
    "collapsed": false
   },
   "outputs": [],
   "source": [
    "image_ = Image.open(image)"
   ]
  },
  {
   "cell_type": "code",
   "execution_count": 15,
   "metadata": {
    "collapsed": false
   },
   "outputs": [
    {
     "data": {
      "text/plain": [
       "array([ 0,  0,  0,  0,  0,  0, 97, 98, 99,  0,  0,  0,  0,  0,  0,  0,  0,\n",
       "        0,  0,  0,  0,  0,  0,  0,  0,  0,  0,  0,  0,  0,  0,  0], dtype=uint8)"
      ]
     },
     "execution_count": 15,
     "metadata": {},
     "output_type": "execute_result"
    }
   ],
   "source": [
    "np.asarray(image_)[20,:]"
   ]
  },
  {
   "cell_type": "code",
   "execution_count": null,
   "metadata": {
    "collapsed": true
   },
   "outputs": [],
   "source": []
  },
  {
   "cell_type": "code",
   "execution_count": 7,
   "metadata": {
    "collapsed": true
   },
   "outputs": [],
   "source": [
    "image_list.append(np.asarray(image_))"
   ]
  },
  {
   "cell_type": "markdown",
   "metadata": {},
   "source": [
    "## Batch Import"
   ]
  },
  {
   "cell_type": "code",
   "execution_count": 12,
   "metadata": {
    "collapsed": false
   },
   "outputs": [],
   "source": [
    "image_list = list()\n",
    "classification_list = list()\n",
    "\n",
    "taxonomies = glob.glob(\"Images/*\")\n",
    "for i in range(len(taxonomies)):\n",
    "    taxonomy = taxonomies[i]\n",
    "    \n",
    "    classification = np.zeros(len(taxonomies))\n",
    "    classification[i]=1.0\n",
    "        \n",
    "    for image in glob.glob(os.path.join(taxonomy,\"*.jpg\")):\n",
    "        image_ = Image.open(image)\n",
    "        image_list.append(np.asarray(image_)/255)\n",
    "        classification_list.append(classification)"
   ]
  },
  {
   "cell_type": "code",
   "execution_count": 13,
   "metadata": {
    "collapsed": false
   },
   "outputs": [],
   "source": [
    "# Check that we imported everything equally.\n",
    "assert len(image_list)==len(classification_list)"
   ]
  },
  {
   "cell_type": "code",
   "execution_count": 14,
   "metadata": {
    "collapsed": false
   },
   "outputs": [],
   "source": [
    "image_list = np.asarray(image_list)\n",
    "classification_list = np.asarray(classification_list)"
   ]
  },
  {
   "cell_type": "code",
   "execution_count": 15,
   "metadata": {
    "collapsed": true
   },
   "outputs": [],
   "source": [
    "hdf_dataset = \"imported_dataset.hdf5\"\n",
    "\n",
    "opts=dict()\n",
    "opts[\"compression\"]=\"gzip\"\n",
    "opts[\"compression_opts\"]=9\n",
    "with h5py.File(hdf_dataset, \"w\") as fid:\n",
    "    fid.create_dataset(\"images\", data=image_list, **opts)\n",
    "    fid.create_dataset(\"classifications\", data=classification_list, **opts)"
   ]
  },
  {
   "cell_type": "code",
   "execution_count": null,
   "metadata": {
    "collapsed": true
   },
   "outputs": [],
   "source": []
  }
 ],
 "metadata": {
  "kernelspec": {
   "display_name": "Python 3",
   "language": "python",
   "name": "python3"
  },
  "language_info": {
   "codemirror_mode": {
    "name": "ipython",
    "version": 3
   },
   "file_extension": ".py",
   "mimetype": "text/x-python",
   "name": "python",
   "nbconvert_exporter": "python",
   "pygments_lexer": "ipython3",
   "version": "3.5.2"
  }
 },
 "nbformat": 4,
 "nbformat_minor": 1
}
