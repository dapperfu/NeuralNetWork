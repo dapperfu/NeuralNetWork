{
 "cells": [
  {
   "cell_type": "markdown",
   "metadata": {},
   "source": [
    "# Merge & Clean Data\n",
    "\n",
    "Merge the data into a single set of data.\n",
    "\n",
    "The scikit learn includes a tool to split testing [sklearn.model_selection.train_test_split](http://scikit-learn.org/stable/modules/generated/sklearn.model_selection.train_test_split.html#sklearn.model_selection.train_test_split). This makes it unnessesary to 'pre split' the data. (It will help going forward to script this). "
   ]
  },
  {
   "cell_type": "code",
   "execution_count": 2,
   "metadata": {
    "collapsed": false
   },
   "outputs": [],
   "source": [
    "import h5py\n",
    "import numpy as np"
   ]
  },
  {
   "cell_type": "code",
   "execution_count": 3,
   "metadata": {
    "collapsed": true
   },
   "outputs": [],
   "source": [
    "hdf_dataset = \"full_dataset.hdf5\"\n",
    "with h5py.File(hdf_dataset, \"r\") as fid:\n",
    "    X=fid[\"X\"].value[0]\n",
    "    Y=fid[\"Y\"].value[0]\n",
    "    X_test=fid[\"X_test\"].value[0]\n",
    "    Y_test=fid[\"Y_test\"].value[0]"
   ]
  },
  {
   "cell_type": "code",
   "execution_count": 4,
   "metadata": {
    "collapsed": false
   },
   "outputs": [
    {
     "name": "stdout",
     "output_type": "stream",
     "text": [
      "(56780, 32, 32, 3)\n",
      "(15000, 32, 32, 3)\n",
      "(56780, 2)\n",
      "(15000, 2)\n"
     ]
    }
   ],
   "source": [
    "for d in (X, X_test, Y, Y_test):\n",
    "    print(d.shape)"
   ]
  },
  {
   "cell_type": "code",
   "execution_count": 5,
   "metadata": {
    "collapsed": true
   },
   "outputs": [],
   "source": [
    "animal_pictures = np.concatenate((Y))\n",
    "animal_classification = np.concatenate((Y, Y_test))"
   ]
  },
  {
   "cell_type": "code",
   "execution_count": null,
   "metadata": {
    "collapsed": true
   },
   "outputs": [],
   "source": []
  }
 ],
 "metadata": {
  "kernelspec": {
   "display_name": "Python 3",
   "language": "python",
   "name": "python3"
  },
  "language_info": {
   "codemirror_mode": {
    "name": "ipython",
    "version": 3
   },
   "file_extension": ".py",
   "mimetype": "text/x-python",
   "name": "python",
   "nbconvert_exporter": "python",
   "pygments_lexer": "ipython3",
   "version": "3.5.2"
  }
 },
 "nbformat": 4,
 "nbformat_minor": 1
}
