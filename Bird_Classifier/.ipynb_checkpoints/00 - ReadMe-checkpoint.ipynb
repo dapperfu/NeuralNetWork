{
 "cells": [
  {
   "cell_type": "markdown",
   "metadata": {},
   "source": [
    "# Bird Classifier to Generic Classifier\n",
    "\n",
    "This is an expanded set of instructions and tools based on [Machine Learning is Fun! Part 3: Deep Learning and Convolutional Neural Networks](https://medium.com/@ageitgey/machine-learning-is-fun-part-3-deep-learning-and-convolutional-neural-networks-f40359318721).\n",
    "\n",
    "When I went to work through the examples I ran into a few problems. \n",
    "\n",
    "1. `full_dataset.pkl` was nowhere to be found. Making it hard to work through the sample code. (It's [linked to in the comments section](https://medium.com/@ageitgey/good-question-a095787c12f1#.dz5uwgxoh) if you search [Google](www.google.com/search?q=full_dataset.pkl))\n",
    "2. The data is in a [python pickle](https://docs.python.org/3/library/pickle.html) and not optimized for size and inherently insecure.\n",
    "3. The data is in a structured in arrays. Meaning you can't apply the NN to any generic folder of images for classification.\n",
    "4. The instructions only worked on Python2.\n",
    "\n",
    "I broke down the example into a few different notebooks along with a Makefile to help new users get started with the code example.\n",
    "\n",
    "\n",
    "## Table of Contents \n",
    "\n",
    "- [01 - Pickle to HDF](01 - PickleToHDF.ipynb) - Converts the Pickle file to a HDF5 formatted dataset.\n",
    "- [02 - Merge Data](02 - Merge Data.ipynb) - Merges the test & training into a single set of arrays. [`sklearn.model_selection.train_test_split`](http://scikit-learn.org/stable/modules/generated/sklearn.model_selection.train_test_split.html#sklearn.model_selection.train_test_split) can be used to split the data into training and test data.\n",
    "- [03 - PlotAnimal](03 - PlotAnimal.ipynb) - Shows the pictures that will actually be used for training.\n",
    "- [04 - ExtractImages](04 - ExtractImages.ipynb) - Take the images in matrix form, convert them to jpeg images, & save to the filesystem.\n",
    "- [05 - Import Images](05 - Import Images.ipynb) - Take a list of images from the file system, convert them to an array and save them into a hdf5 file."
   ]
  },
  {
   "cell_type": "code",
   "execution_count": null,
   "metadata": {
    "collapsed": true
   },
   "outputs": [],
   "source": []
  }
 ],
 "metadata": {
  "kernelspec": {
   "display_name": "Python 3",
   "language": "python",
   "name": "python3"
  },
  "language_info": {
   "codemirror_mode": {
    "name": "ipython",
    "version": 3
   },
   "file_extension": ".py",
   "mimetype": "text/x-python",
   "name": "python",
   "nbconvert_exporter": "python",
   "pygments_lexer": "ipython3",
   "version": "3.5.2"
  }
 },
 "nbformat": 4,
 "nbformat_minor": 1
}
