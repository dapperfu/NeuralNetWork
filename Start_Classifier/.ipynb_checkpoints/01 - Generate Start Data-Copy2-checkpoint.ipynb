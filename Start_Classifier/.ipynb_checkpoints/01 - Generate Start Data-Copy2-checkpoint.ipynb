{
 "cells": [
  {
   "cell_type": "markdown",
   "metadata": {},
   "source": [
    "# Generate Start Data\n",
    "\n",
    "In the absense of having data on hand I will have to generate a bunch of fake data."
   ]
  },
  {
   "cell_type": "code",
   "execution_count": 23,
   "metadata": {
    "collapsed": false
   },
   "outputs": [],
   "source": [
    "import numpy as np\n",
    "import matplotlib.pyplot as plt\n",
    "import uuid\n",
    "from control.matlab import *\n",
    "import os"
   ]
  },
  {
   "cell_type": "code",
   "execution_count": 24,
   "metadata": {
    "collapsed": false
   },
   "outputs": [],
   "source": [
    "# Assume engine is a 1st order transfer function with 1s time constant & unity gain.\n",
    "# \"A horse is a sphere if it makes the equations easier\"\n",
    "sys1 = tf([1],[1,1])"
   ]
  },
  {
   "cell_type": "code",
   "execution_count": 25,
   "metadata": {
    "collapsed": false
   },
   "outputs": [],
   "source": [
    "# Generate 5 minutes of data at 0.1s resolution.\n",
    "dt = 0.1\n",
    "t0 = 0\n",
    "tfinal = 300\n",
    "T = np.arange(t0, tfinal+dt, dt)"
   ]
  },
  {
   "cell_type": "code",
   "execution_count": 26,
   "metadata": {
    "collapsed": true
   },
   "outputs": [],
   "source": [
    "def gen_start(T):\n",
    "    crank_speed = np.random.uniform(200,210)\n",
    "    idle_speed  = np.random.uniform(595, 605)\n",
    "\n",
    "    crank_time = np.random.uniform(10,60)\n",
    "    crank_duration = np.random.uniform(5, 15)\n",
    "    \n",
    "    # Simulate a good start.\n",
    "    U = np.zeros(T.shape)\n",
    "    U[(T>crank_time)]=crank_speed\n",
    "    if crank_duration>12:\n",
    "        U[(T>crank_time+crank_duration)]=0\n",
    "        start_type = \"no\"\n",
    "    else:\n",
    "        U[(T>crank_time+crank_duration)]=idle_speed\n",
    "        start_type = \"good\"\n",
    "    \n",
    "    yout, T, xout = lsim(sys1, U=U, T=T)\n",
    "    \n",
    "    N = np.random.normal(0, 5, yout.shape)\n",
    "    yout[U>0]+=N[U>0]\n",
    "        \n",
    "    return yout, start_type"
   ]
  },
  {
   "cell_type": "code",
   "execution_count": 27,
   "metadata": {
    "collapsed": true
   },
   "outputs": [],
   "source": [
    "# Generate 5 minutes of data at 0.1s resolution.\n",
    "dt = 0.1\n",
    "t0 = 0\n",
    "tfinal = 300\n",
    "T = np.arange(t0, tfinal+dt, dt)"
   ]
  },
  {
   "cell_type": "code",
   "execution_count": 29,
   "metadata": {
    "collapsed": false
   },
   "outputs": [
    {
     "name": "stderr",
     "output_type": "stream",
     "text": [
      "/usr/lib/python3/dist-packages/matplotlib/pyplot.py:516: RuntimeWarning: More than 20 figures have been opened. Figures created through the pyplot interface (`matplotlib.pyplot.figure`) are retained until explicitly closed and may consume too much memory. (To control this warning, see the rcParam `figure.max_open_warning`).\n",
      "  max_open_warning, RuntimeWarning)\n"
     ]
    }
   ],
   "source": [
    "for i in range(100):\n",
    "    base_dir = os.path.join(\"Images\", start_type)\n",
    "    if not os.path.exists(base_dir):\n",
    "        os.makedirs(base_dir)\n",
    "        \n",
    "    fig = plt.figure(figsize=(1,1), dpi=32)\n",
    "    plt.plot(T,yout)\n",
    "    plt.axis('off')\n",
    "    \n",
    "    \n",
    "    U = uuid.uuid4()\n",
    "    img_name = str(U)+\".png\"\n",
    "    img_path = os.path.join(base_dir, img_name)\n",
    "    plt.savefig(img_path)\n",
    "    plt.close()"
   ]
  },
  {
   "cell_type": "code",
   "execution_count": 31,
   "metadata": {
    "collapsed": true
   },
   "outputs": [],
   "source": []
  },
  {
   "cell_type": "code",
   "execution_count": null,
   "metadata": {
    "collapsed": true
   },
   "outputs": [],
   "source": []
  }
 ],
 "metadata": {
  "kernelspec": {
   "display_name": "Python 3",
   "language": "python",
   "name": "python3"
  },
  "language_info": {
   "codemirror_mode": {
    "name": "ipython",
    "version": 3
   },
   "file_extension": ".py",
   "mimetype": "text/x-python",
   "name": "python",
   "nbconvert_exporter": "python",
   "pygments_lexer": "ipython3",
   "version": "3.5.2"
  }
 },
 "nbformat": 4,
 "nbformat_minor": 1
}
