{
 "cells": [
  {
   "cell_type": "markdown",
   "metadata": {
    "collapsed": true,
    "deletable": true,
    "editable": true
   },
   "source": [
    "# Generate Start Data\n",
    "\n",
    "In the absense of having data on hand I will have to generate a bunch of fake data."
   ]
  },
  {
   "cell_type": "code",
   "execution_count": 5,
   "metadata": {
    "collapsed": true,
    "deletable": true,
    "editable": true
   },
   "outputs": [],
   "source": [
    "%matplotlib inline"
   ]
  },
  {
   "cell_type": "code",
   "execution_count": 6,
   "metadata": {
    "collapsed": false,
    "deletable": true,
    "editable": true
   },
   "outputs": [],
   "source": [
    "import numpy as np\n",
    "import matplotlib.pyplot as plt\n",
    "import uuid\n",
    "from control.matlab import *\n",
    "import os"
   ]
  },
  {
   "cell_type": "code",
   "execution_count": 7,
   "metadata": {
    "collapsed": false,
    "deletable": true,
    "editable": true
   },
   "outputs": [],
   "source": [
    "# Generate 5 minutes of data at 0.1s resolution.\n",
    "dt = 0.1\n",
    "t0 = 0\n",
    "tfinal = 300\n",
    "T = np.arange(t0, tfinal+dt, dt)"
   ]
  },
  {
   "cell_type": "code",
   "execution_count": null,
   "metadata": {
    "collapsed": true
   },
   "outputs": [],
   "source": [
    "# Cheap way to \n",
    "def crank_speed_gen(start=200, end):\n",
    "    return np.random.uniform(start, end)"
   ]
  },
  {
   "cell_type": "code",
   "execution_count": 8,
   "metadata": {
    "collapsed": true,
    "deletable": true,
    "editable": true
   },
   "outputs": [],
   "source": [
    "def gen_start1(T):\n",
    "    # No Start.\n",
    "    crank_speed = np.random.uniform(200,210)\n",
    "    idle_speed  = np.random.uniform(595, 605)\n",
    "\n",
    "    crank_time = np.random.uniform(10,60)\n",
    "    crank_duration = np.random.uniform(5, 15)\n",
    "    \n",
    "    # Assume engine is a 1st order transfer function with 1s time constant & unity gain.\n",
    "    # \"A horse is a sphere if it makes the equations easier\"\n",
    "    sys1 = tf([1],[1,1])\n",
    "    \n",
    "    # Simulate a good start.\n",
    "    U = np.zeros(T.shape)\n",
    "    U[(T>crank_time)]=crank_speed\n",
    "    \n",
    "    U[(T>crank_time+crank_duration)]=0\n",
    "    start_type = \"no\"\n",
    "\n",
    "    yout, T, xout = lsim(sys1, U=U, T=T)\n",
    "    \n",
    "    N = np.random.normal(0, 10, yout.shape)\n",
    "    yout[U>0]+=N[U>0]\n",
    "        \n",
    "    return yout"
   ]
  },
  {
   "cell_type": "code",
   "execution_count": 9,
   "metadata": {
    "collapsed": false,
    "deletable": true,
    "editable": true
   },
   "outputs": [
    {
     "data": {
      "text/plain": [
       "[<matplotlib.lines.Line2D at 0x7ff54b82a588>]"
      ]
     },
     "execution_count": 9,
     "metadata": {},
     "output_type": "execute_result"
    },
    {
     "data": {
      "image/png": "[encoded data removed]",
      "text/plain": [
       "<matplotlib.figure.Figure at 0x7ff54d83b828>"
      ]
     },
     "metadata": {},
     "output_type": "display_data"
    }
   ],
   "source": [
    "yout = gen_start1(T)\n",
    "plt.plot(T, yout)"
   ]
  },
  {
   "cell_type": "code",
   "execution_count": 10,
   "metadata": {
    "collapsed": true,
    "deletable": true,
    "editable": true
   },
   "outputs": [],
   "source": [
    "def gen_start2(T):\n",
    "    # Good Start.\n",
    "    crank_speed = np.random.uniform(200,210)\n",
    "    idle_speed  = np.random.uniform(595, 605)\n",
    "\n",
    "    crank_time = np.random.uniform(10,60)\n",
    "    crank_duration = np.random.uniform(5, 15)\n",
    "\n",
    "    # Assume engine is a 1st order transfer function with 1s time constant & unity gain.\n",
    "    # \"A horse is a sphere if it makes the equations easier\"\n",
    "    sys1 = tf([1],[1,1])\n",
    "    \n",
    "    # Simulate a good start.\n",
    "    U = np.zeros(T.shape)\n",
    "    U[(T>crank_time)]=crank_speed\n",
    "    U[(T>crank_time+crank_duration)]=idle_speed\n",
    "    \n",
    "    yout, T, xout = lsim(sys1, U=U, T=T)\n",
    "    \n",
    "    N = np.random.normal(0, 10, yout.shape)\n",
    "    yout[U>0]+=N[U>0]\n",
    "        \n",
    "    return yout"
   ]
  },
  {
   "cell_type": "code",
   "execution_count": 11,
   "metadata": {
    "collapsed": false,
    "deletable": true,
    "editable": true
   },
   "outputs": [
    {
     "data": {
      "text/plain": [
       "[<matplotlib.lines.Line2D at 0x7ff54b7575f8>]"
      ]
     },
     "execution_count": 11,
     "metadata": {},
     "output_type": "execute_result"
    },
    {
     "data": {
      "image/png": "[encoded data removed]",
      "text/plain": [
       "<matplotlib.figure.Figure at 0x7ff54d83b898>"
      ]
     },
     "metadata": {},
     "output_type": "display_data"
    }
   ],
   "source": [
    "yout = gen_start2(T)\n",
    "plt.plot(T, yout)"
   ]
  },
  {
   "cell_type": "code",
   "execution_count": 12,
   "metadata": {
    "collapsed": true,
    "deletable": true,
    "editable": true
   },
   "outputs": [],
   "source": [
    "def gen_start3(T):\n",
    "    # Ringing Start.\n",
    "    crank_speed = np.random.uniform(200,210)\n",
    "    idle_speed  = np.random.uniform(595, 605)\n",
    "\n",
    "    crank_time = np.random.uniform(10,60)\n",
    "    crank_duration = np.random.uniform(5, 15)\n",
    "    \n",
    "    # Simulate a good start.\n",
    "    U = np.zeros(T.shape)\n",
    "    U[(T>crank_time)]=crank_speed\n",
    "    U[(T>crank_time+crank_duration)]=idle_speed\n",
    "    \n",
    "    wn = 1\n",
    "    zeta = .1\n",
    "    sys2 = tf(wn ** 2, [1, 2*wn*zeta, wn ** 2])\n",
    "    \n",
    "    yout, T, xout = lsim(sys2, U=U, T=T)\n",
    "    \n",
    "    T2 = crank_time+crank_duration\n",
    "    \n",
    "    N = np.random.normal(0, 10, yout.shape)\n",
    "    yout[U>0]+=N[U>0]\n",
    "        \n",
    "    return yout"
   ]
  },
  {
   "cell_type": "code",
   "execution_count": 13,
   "metadata": {
    "collapsed": false,
    "deletable": true,
    "editable": true
   },
   "outputs": [
    {
     "data": {
      "text/plain": [
       "[<matplotlib.lines.Line2D at 0x7ff54b6c7a20>]"
      ]
     },
     "execution_count": 13,
     "metadata": {},
     "output_type": "execute_result"
    },
    {
     "data": {
      "image/png": "[encoded data removed]",
      "text/plain": [
       "<matplotlib.figure.Figure at 0x7ff54d83b710>"
      ]
     },
     "metadata": {},
     "output_type": "display_data"
    }
   ],
   "source": [
    "yout = gen_start3(T)\n",
    "plt.plot(T, yout)"
   ]
  },
  {
   "cell_type": "code",
   "execution_count": 14,
   "metadata": {
    "collapsed": true,
    "deletable": true,
    "editable": true
   },
   "outputs": [],
   "source": [
    "def gen_start4(T):\n",
    "    # Overshoot Start.\n",
    "    crank_speed = np.random.uniform(200,210)\n",
    "    idle_speed  = np.random.uniform(595, 605)\n",
    "\n",
    "    crank_time = np.random.uniform(10,60)\n",
    "    crank_duration = np.random.uniform(5, 15)\n",
    "    \n",
    "    # Simulate a good start.\n",
    "    U = np.zeros(T.shape)\n",
    "    U[(T>crank_time)]=crank_speed\n",
    "    U[(T>crank_time+crank_duration)]=idle_speed\n",
    "    \n",
    "    wn = 1\n",
    "    zeta = 0.5\n",
    "    sys2 = tf(wn ** 2, [1, 2*wn*zeta, wn ** 2])\n",
    "    \n",
    "    yout, T, xout = lsim(sys2, U=U, T=T)\n",
    "    \n",
    "    T2 = crank_time+crank_duration\n",
    "    \n",
    "    N = np.random.normal(0, 10, yout.shape)\n",
    "    yout[U>0]+=N[U>0]\n",
    "        \n",
    "    return yout"
   ]
  },
  {
   "cell_type": "code",
   "execution_count": 41,
   "metadata": {
    "collapsed": false,
    "deletable": true,
    "editable": true
   },
   "outputs": [
    {
     "data": {
      "text/plain": [
       "[<matplotlib.lines.Line2D at 0x7ff52b2a4400>]"
      ]
     },
     "execution_count": 41,
     "metadata": {},
     "output_type": "execute_result"
    },
    {
     "data": {
      "image/png": "[encoded data removed]",
      "text/plain": [
       "<matplotlib.figure.Figure at 0x7ff52bbe94a8>"
      ]
     },
     "metadata": {},
     "output_type": "display_data"
    }
   ],
   "source": [
    "yout = gen_start4(T)\n",
    "plt.plot(T, yout)"
   ]
  },
  {
   "cell_type": "code",
   "execution_count": 42,
   "metadata": {
    "collapsed": true,
    "deletable": true,
    "editable": true
   },
   "outputs": [],
   "source": [
    "def gen_start5(T):\n",
    "    # Overdamped Start.\n",
    "    crank_speed = np.random.uniform(200,210)\n",
    "    idle_speed  = np.random.uniform(595, 605)\n",
    "\n",
    "    crank_time = np.random.uniform(10,60)\n",
    "    crank_duration = np.random.uniform(5, 15)\n",
    "\n",
    "    # Assume engine is a 1st order transfer function with 1s time constant & unity gain.\n",
    "    # \"A horse is a sphere if it makes the equations easier\"\n",
    "    sys1 = tf([1],[20,1])\n",
    "    \n",
    "    # Simulate a good start.\n",
    "    U = np.zeros(T.shape)\n",
    "    U[(T>crank_time)]=crank_speed\n",
    "    U[(T>crank_time+crank_duration)]=idle_speed\n",
    "    \n",
    "    yout, T, xout = lsim(sys1, U=U, T=T)\n",
    "    \n",
    "    N = np.random.normal(0, 10, yout.shape)\n",
    "    yout[U>0]+=N[U>0]\n",
    "        \n",
    "    return yout"
   ]
  },
  {
   "cell_type": "code",
   "execution_count": 43,
   "metadata": {
    "collapsed": false,
    "deletable": true,
    "editable": true
   },
   "outputs": [
    {
     "data": {
      "text/plain": [
       "[<matplotlib.lines.Line2D at 0x7ff52b2140b8>]"
      ]
     },
     "execution_count": 43,
     "metadata": {},
     "output_type": "execute_result"
    },
    {
     "data": {
      "image/png": "[encoded data removed]",
      "text/plain": [
       "<matplotlib.figure.Figure at 0x7ff52b3a9c88>"
      ]
     },
     "metadata": {},
     "output_type": "display_data"
    }
   ],
   "source": [
    "yout = gen_start5(T)\n",
    "plt.plot(T, yout)"
   ]
  },
  {
   "cell_type": "code",
   "execution_count": 24,
   "metadata": {
    "collapsed": true,
    "deletable": true,
    "editable": true
   },
   "outputs": [],
   "source": [
    "starts = [gen_start1, gen_start2, gen_start3, gen_start4, gen_start5]"
   ]
  },
  {
   "cell_type": "code",
   "execution_count": 1,
   "metadata": {
    "collapsed": false,
    "deletable": true,
    "editable": true
   },
   "outputs": [
    {
     "ename": "NameError",
     "evalue": "name 'starts' is not defined",
     "output_type": "error",
     "traceback": [
      "\u001b[0;31m---------------------------------------------------------------------------\u001b[0m",
      "\u001b[0;31mNameError\u001b[0m                                 Traceback (most recent call last)",
      "\u001b[0;32m<ipython-input-1-b2565f74f2a2>\u001b[0m in \u001b[0;36m<module>\u001b[0;34m()\u001b[0m\n\u001b[0;32m----> 1\u001b[0;31m \u001b[0;32mfor\u001b[0m \u001b[0mstart\u001b[0m \u001b[0;32min\u001b[0m \u001b[0mstarts\u001b[0m\u001b[0;34m:\u001b[0m\u001b[0;34m\u001b[0m\u001b[0m\n\u001b[0m\u001b[1;32m      2\u001b[0m     \u001b[0myout\u001b[0m \u001b[0;34m=\u001b[0m \u001b[0mstart\u001b[0m\u001b[0;34m(\u001b[0m\u001b[0mT\u001b[0m\u001b[0;34m)\u001b[0m\u001b[0;34m\u001b[0m\u001b[0m\n\u001b[1;32m      3\u001b[0m     \u001b[0mprint\u001b[0m\u001b[0;34m(\u001b[0m\u001b[0mstart\u001b[0m\u001b[0;34m.\u001b[0m\u001b[0m__name__\u001b[0m\u001b[0;34m)\u001b[0m\u001b[0;34m\u001b[0m\u001b[0m\n\u001b[1;32m      4\u001b[0m     \u001b[0mplt\u001b[0m\u001b[0;34m.\u001b[0m\u001b[0mplot\u001b[0m\u001b[0;34m(\u001b[0m\u001b[0mT\u001b[0m\u001b[0;34m,\u001b[0m \u001b[0myout\u001b[0m\u001b[0;34m)\u001b[0m\u001b[0;34m\u001b[0m\u001b[0m\n\u001b[1;32m      5\u001b[0m     \u001b[0mplt\u001b[0m\u001b[0;34m.\u001b[0m\u001b[0mshow\u001b[0m\u001b[0;34m(\u001b[0m\u001b[0;34m)\u001b[0m\u001b[0;34m\u001b[0m\u001b[0m\n",
      "\u001b[0;31mNameError\u001b[0m: name 'starts' is not defined"
     ]
    }
   ],
   "source": [
    "for start in starts:\n",
    "    yout = start(T)\n",
    "    print(start.__name__)\n",
    "    plt.plot(T, yout)\n",
    "    plt.show()"
   ]
  },
  {
   "cell_type": "code",
   "execution_count": 26,
   "metadata": {
    "collapsed": false,
    "deletable": true,
    "editable": true
   },
   "outputs": [
    {
     "data": {
      "text/plain": [
       "'gen_start1'"
      ]
     },
     "execution_count": 26,
     "metadata": {},
     "output_type": "execute_result"
    }
   ],
   "source": [
    "starts[0].__name__"
   ]
  },
  {
   "cell_type": "code",
   "execution_count": 37,
   "metadata": {
    "collapsed": false,
    "deletable": true,
    "editable": true
   },
   "outputs": [],
   "source": [
    "dataset=\"/mnt/pit/NeuralNetWork/Start_Classifier/dataset\""
   ]
  },
  {
   "cell_type": "code",
   "execution_count": 38,
   "metadata": {
    "collapsed": false,
    "deletable": true,
    "editable": true
   },
   "outputs": [],
   "source": [
    "for _ in range(5):\n",
    "    for start in starts:\n",
    "        fig = plt.figure(figsize=(4,4), dpi=64)\n",
    "\n",
    "        yout = start(T)\n",
    "        fig.clf()\n",
    "        plt.plot(T,yout)\n",
    "        plt.axis('off')\n",
    "\n",
    "        base_dir = os.path.join(dataset, start.__name__)\n",
    "\n",
    "        if not os.path.exists(base_dir):\n",
    "            os.makedirs(base_dir)\n",
    "\n",
    "        U =  uuid.uuid4()\n",
    "        img_name = str(U)+\".png\"\n",
    "        img_path = os.path.join(base_dir, img_name)\n",
    "        plt.savefig(img_path, \n",
    "                    pad_inches=0.0,\n",
    "                    dpi='figure')\n",
    "        plt.close(plt.gcf())"
   ]
  },
  {
   "cell_type": "code",
   "execution_count": null,
   "metadata": {
    "collapsed": true,
    "deletable": true,
    "editable": true
   },
   "outputs": [],
   "source": [
    "yout = start(T)\n",
    "fig.clf()\n",
    "plt.plot(T,yout)\n",
    "plt.axis('off')"
   ]
  },
  {
   "cell_type": "code",
   "execution_count": null,
   "metadata": {
    "collapsed": true,
    "deletable": true,
    "editable": true
   },
   "outputs": [],
   "source": []
  }
 ],
 "metadata": {
  "kernelspec": {
   "display_name": "Python 3",
   "language": "python",
   "name": "python3"
  },
  "language_info": {
   "codemirror_mode": {
    "name": "ipython",
    "version": 3
   },
   "file_extension": ".py",
   "mimetype": "text/x-python",
   "name": "python",
   "nbconvert_exporter": "python",
   "pygments_lexer": "ipython3",
   "version": "3.5.2"
  }
 },
 "nbformat": 4,
 "nbformat_minor": 1
}
