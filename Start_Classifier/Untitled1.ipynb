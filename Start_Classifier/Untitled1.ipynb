{
 "cells": [
  {
   "cell_type": "markdown",
   "metadata": {},
   "source": [
    "# Visual Classification of Engine Start Events using Deep Convolutional Neural Networks\n",
    "\n",
    "*Any sufficiently advanced technology is indistinguishable from magic.*\n",
    "\n",
    "However as an engineer I had little use for determining if an image was showing a Dolphin or a Seahorse.\n",
    "\n",
    "UNC's [GoogLeNet](https://www.cs.unc.edu/~wliu/papers/GoogLeNet.pdf) is a neural network designed to compete in the ImageNet Large-Scale  Visual  Recognition  Challenge  2014 (ILSVRC14)."
   ]
  },
  {
   "cell_type": "code",
   "execution_count": null,
   "metadata": {
    "collapsed": true
   },
   "outputs": [],
   "source": []
  },
  {
   "cell_type": "markdown",
   "metadata": {},
   "source": [
    "Test environment:\n",
    "\n",
    "\n",
    "- Hardware:\n",
    "    - CPU: [Intel(R) Core(TM) i7-4770K CPU @ 3.50GHz](https://ark.intel.com/products/75123/Intel-Core-i7-4770K-Processor-8M-Cache-up-to-3_90-GHz)\n",
    "    - GPU: [Nvidia GeForce GTX 960](http://www.geforce.com/hardware/desktop-gpus/geforce-gtx-960/specifications)\n",
    "    - Motherboard: \n",
    "- Software:\n",
    "    - Ubuntu 16.04 LTS (Server Install)\n",
    "    - Python 3.5\n",
    "    - Nvidia DIGITS 5.0-dev. [Python3 Fork](https://github.com/jed-frey/DIGITS/releases/tag/v5.1-dev-py3).\n",
    "    - OpenCV 3.2.0 for Python3.\n",
    "    - caffe *master*"
   ]
  },
  {
   "cell_type": "code",
   "execution_count": null,
   "metadata": {
    "collapsed": true
   },
   "outputs": [],
   "source": []
  }
 ],
 "metadata": {
  "kernelspec": {
   "display_name": "Python 3",
   "language": "python",
   "name": "python3"
  },
  "language_info": {
   "codemirror_mode": {
    "name": "ipython",
    "version": 3
   },
   "file_extension": ".py",
   "mimetype": "text/x-python",
   "name": "python",
   "nbconvert_exporter": "python",
   "pygments_lexer": "ipython3",
   "version": "3.5.2"
  }
 },
 "nbformat": 4,
 "nbformat_minor": 2
}
