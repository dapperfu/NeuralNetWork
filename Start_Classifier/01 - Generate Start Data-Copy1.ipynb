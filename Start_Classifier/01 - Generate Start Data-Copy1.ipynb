{
 "cells": [
  {
   "cell_type": "markdown",
   "metadata": {},
   "source": [
    "# Generate Start Data\n",
    "\n",
    "In the absense of having data on hand I will have to generate a bunch of fake data."
   ]
  },
  {
   "cell_type": "code",
   "execution_count": 1,
   "metadata": {
    "collapsed": false
   },
   "outputs": [
    {
     "name": "stdout",
     "output_type": "stream",
     "text": [
      "Using matplotlib backend: TkAgg\n",
      "Populating the interactive namespace from numpy and matplotlib\n"
     ]
    }
   ],
   "source": [
    "%pylab --no-import-all\n",
    "%matplotlib inline\n",
    "from control.matlab import *"
   ]
  },
  {
   "cell_type": "code",
   "execution_count": 2,
   "metadata": {
    "collapsed": false
   },
   "outputs": [],
   "source": [
    "# Assume engine is a 1st order transfer function with 1+s time constant & unity gain.\n",
    "# \"A horse is a sphere if it makes the equations easier\"\n",
    "sys1 = tf([1],[1,1])"
   ]
  },
  {
   "cell_type": "code",
   "execution_count": 3,
   "metadata": {
    "collapsed": true
   },
   "outputs": [],
   "source": [
    "crank_speed = 200\n",
    "idle_speed  = 600"
   ]
  },
  {
   "cell_type": "code",
   "execution_count": 4,
   "metadata": {
    "collapsed": false
   },
   "outputs": [],
   "source": [
    "# Generate 5 minutes of data at 0.1s resolution.\n",
    "dt = 0.1\n",
    "t0 = 0\n",
    "tfinal = 300\n",
    "T = np.arange(t0, tfinal+dt, dt)"
   ]
  },
  {
   "cell_type": "code",
   "execution_count": 5,
   "metadata": {
    "collapsed": true
   },
   "outputs": [],
   "source": [
    "def good_start(T):\n",
    "    # Simulate a good start.\n",
    "    U = np.zeros(T.shape)\n",
    "    U[(T>60)]=crank_speed\n",
    "    U[(T>70)]=idle_speed\n",
    "\n",
    "    yout, T, xout = lsim(sys1, U=U, T=T)\n",
    "    N = np.random.normal(0, 5, yout.shape)\n",
    "    yout[U>0]+=N[U>0]\n",
    "    return yout"
   ]
  },
  {
   "cell_type": "code",
   "execution_count": 6,
   "metadata": {
    "collapsed": false,
    "scrolled": true
   },
   "outputs": [
    {
     "data": {
      "text/plain": [
       "[<matplotlib.lines.Line2D at 0x7fd67e7f2908>]"
      ]
     },
     "execution_count": 6,
     "metadata": {},
     "output_type": "execute_result"
    },
    {
     "data": {
      "image/png": "[encoded data removed]",
      "text/plain": [
       "<matplotlib.figure.Figure at 0x7fd6bcc5ada0>"
      ]
     },
     "metadata": {},
     "output_type": "display_data"
    }
   ],
   "source": [
    "yout = good_start(T)\n",
    "plt.plot(T,yout)"
   ]
  },
  {
   "cell_type": "markdown",
   "metadata": {},
   "source": [
    "Sometimes the engine does not start. Out of fuel. Spark plugs unhooked.\n",
    "\n",
    "Make a no-start plot."
   ]
  },
  {
   "cell_type": "code",
   "execution_count": 7,
   "metadata": {
    "collapsed": false
   },
   "outputs": [
    {
     "data": {
      "text/plain": [
       "1.9403672180483644"
      ]
     },
     "execution_count": 7,
     "metadata": {},
     "output_type": "execute_result"
    }
   ],
   "source": [
    "np.random.uniform(-5, 5) "
   ]
  },
  {
   "cell_type": "code",
   "execution_count": 8,
   "metadata": {
    "collapsed": true
   },
   "outputs": [],
   "source": [
    "def no_start(T):\n",
    "    # Simulate a good start.\n",
    "    U = np.zeros(T.shape)\n",
    "    U[(T>60)]=crank_speed\n",
    "    U[(T>70)]=0\n",
    "    yout, T, xout = lsim(sys1, U=U, T=T)\n",
    "    return yout"
   ]
  },
  {
   "cell_type": "code",
   "execution_count": 17,
   "metadata": {
    "collapsed": false
   },
   "outputs": [
    {
     "data": {
      "text/plain": [
       "(0, 700)"
      ]
     },
     "execution_count": 17,
     "metadata": {},
     "output_type": "execute_result"
    },
    {
     "data": {
      "image/png": "[encoded data removed]",
      "text/plain": [
       "<matplotlib.figure.Figure at 0x7fd67e480518>"
      ]
     },
     "metadata": {},
     "output_type": "display_data"
    }
   ],
   "source": [
    "fig = plt.figure()\n",
    "yout = no_start(T)\n",
    "plt.plot(T,yout)\n",
    "plt.ylim([0, 700])"
   ]
  },
  {
   "cell_type": "markdown",
   "metadata": {},
   "source": [
    "Increase randomness so that the neural network isn't overfitted."
   ]
  },
  {
   "cell_type": "code",
   "execution_count": 14,
   "metadata": {
    "collapsed": true
   },
   "outputs": [],
   "source": [
    "crank_speed = np.random.uniform(200,210)\n",
    "idle_speed  = np.random.uniform(595, 605)\n",
    "\n",
    "crank_time = np.random.uniform(10,60)\n",
    "crank_duration = np.random.uniform(5, 15)"
   ]
  },
  {
   "cell_type": "code",
   "execution_count": 18,
   "metadata": {
    "collapsed": true
   },
   "outputs": [],
   "source": [
    "def good_start(T):\n",
    "    # Simulate a good start.\n",
    "    U = np.zeros(T.shape)\n",
    "    U[(T>crank_time)]=crank_speed\n",
    "    U[(T>crank_time+crank_duration)]=idle_speed\n",
    "\n",
    "    yout, T, xout = lsim(sys1, U=U, T=T)\n",
    "    N = np.random.normal(0, 5, yout.shape)\n",
    "    yout[U>0]+=N[U>0]\n",
    "    return yout\n",
    "\n",
    "def no_start(T):\n",
    "    # Simulate a good start.\n",
    "    U = np.zeros(T.shape)\n",
    "    U[(T>crank_time)]=crank_speed\n",
    "    U[(T>crank_time+crank_duration)]=0\n",
    "    yout, T, xout = lsim(sys1, U=U, T=T)\n",
    "    return yout"
   ]
  },
  {
   "cell_type": "code",
   "execution_count": 26,
   "metadata": {
    "collapsed": true
   },
   "outputs": [],
   "source": [
    "def gen_start(T):\n",
    "    crank_speed = np.random.uniform(200,210)\n",
    "    idle_speed  = np.random.uniform(595, 605)\n",
    "\n",
    "    crank_time = np.random.uniform(10,60)\n",
    "    crank_duration = np.random.uniform(5, 15)\n",
    "    \n",
    "    # Simulate a good start.\n",
    "    U = np.zeros(T.shape)\n",
    "    U[(T>crank_time)]=crank_speed\n",
    "    if crank_duration>12:\n",
    "        U[(T>crank_time+crank_duration)]=0\n",
    "        start_type = \"no\"\n",
    "    else:\n",
    "        U[(T>crank_time+crank_duration)]=idle_speed\n",
    "        start_type = \"good\"\n",
    "    \n",
    "    yout, T, xout = lsim(sys1, U=U, T=T)\n",
    "    \n",
    "    N = np.random.normal(0, 5, yout.shape)\n",
    "    yout[U>0]+=N[U>0]\n",
    "        \n",
    "    return yout, start_type"
   ]
  },
  {
   "cell_type": "code",
   "execution_count": 27,
   "metadata": {
    "collapsed": false
   },
   "outputs": [
    {
     "data": {
      "text/plain": [
       "(0, 700)"
      ]
     },
     "execution_count": 27,
     "metadata": {},
     "output_type": "execute_result"
    },
    {
     "data": {
      "image/png": "[encoded data removed]",
      "text/plain": [
       "<matplotlib.figure.Figure at 0x7fd67e631780>"
      ]
     },
     "metadata": {},
     "output_type": "display_data"
    }
   ],
   "source": [
    "fig = plt.figure()\n",
    "yout, start_type = gen_start(T)\n",
    "plt.plot(T,yout)\n",
    "plt.ylim([0, 700])"
   ]
  },
  {
   "cell_type": "code",
   "execution_count": 31,
   "metadata": {
    "collapsed": true
   },
   "outputs": [],
   "source": [
    "import uuid\n",
    "U = uuid.uuid4()"
   ]
  },
  {
   "cell_type": "code",
   "execution_count": 34,
   "metadata": {
    "collapsed": false
   },
   "outputs": [],
   "source": [
    "import os\n",
    "folder = str(U)+\".png\""
   ]
  },
  {
   "cell_type": "code",
   "execution_count": null,
   "metadata": {
    "collapsed": true
   },
   "outputs": [],
   "source": [
    "base_dir = os.path.join(\"Images\", start_type)\n",
    "if os.path.exists(base_dir):\n",
    "    os.makedirs(base_dir)"
   ]
  },
  {
   "cell_type": "code",
   "execution_count": 29,
   "metadata": {
    "collapsed": false
   },
   "outputs": [
    {
     "data": {
      "image/png": "[encoded data removed]",
      "text/plain": [
       "<matplotlib.figure.Figure at 0x7fd67e2e4be0>"
      ]
     },
     "metadata": {},
     "output_type": "display_data"
    }
   ],
   "source": [
    "\n",
    "fig = plt.figure(figsize=(1,1), dpi=32)\n",
    "plt.plot(T,yout)\n",
    "plt.axis('off')\n",
    "plt.savefig()"
   ]
  },
  {
   "cell_type": "code",
   "execution_count": null,
   "metadata": {
    "collapsed": true
   },
   "outputs": [],
   "source": []
  }
 ],
 "metadata": {
  "kernelspec": {
   "display_name": "Python 3",
   "language": "python",
   "name": "python3"
  },
  "language_info": {
   "codemirror_mode": {
    "name": "ipython",
    "version": 3
   },
   "file_extension": ".py",
   "mimetype": "text/x-python",
   "name": "python",
   "nbconvert_exporter": "python",
   "pygments_lexer": "ipython3",
   "version": "3.5.2"
  }
 },
 "nbformat": 4,
 "nbformat_minor": 1
}
